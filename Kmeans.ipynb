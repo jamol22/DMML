{
 "cells": [
  {
   "cell_type": "code",
   "execution_count": null,
   "metadata": {
    "colab": {
     "base_uri": "https://localhost:8080/",
     "height": 74
    },
    "id": "q37iHReUSUyP",
    "outputId": "95779cbe-afd5-4d4b-d3ff-b82293bc1a53"
   },
   "outputs": [
    {
     "data": {
      "text/html": [
       "\n",
       "     <input type=\"file\" id=\"files-da2ceb6f-43bd-4bb0-befa-3ad064240a23\" name=\"files[]\" multiple disabled\n",
       "        style=\"border:none\" />\n",
       "     <output id=\"result-da2ceb6f-43bd-4bb0-befa-3ad064240a23\">\n",
       "      Upload widget is only available when the cell has been executed in the\n",
       "      current browser session. Please rerun this cell to enable.\n",
       "      </output>\n",
       "      <script>// Copyright 2017 Google LLC\n",
       "//\n",
       "// Licensed under the Apache License, Version 2.0 (the \"License\");\n",
       "// you may not use this file except in compliance with the License.\n",
       "// You may obtain a copy of the License at\n",
       "//\n",
       "//      http://www.apache.org/licenses/LICENSE-2.0\n",
       "//\n",
       "// Unless required by applicable law or agreed to in writing, software\n",
       "// distributed under the License is distributed on an \"AS IS\" BASIS,\n",
       "// WITHOUT WARRANTIES OR CONDITIONS OF ANY KIND, either express or implied.\n",
       "// See the License for the specific language governing permissions and\n",
       "// limitations under the License.\n",
       "\n",
       "/**\n",
       " * @fileoverview Helpers for google.colab Python module.\n",
       " */\n",
       "(function(scope) {\n",
       "function span(text, styleAttributes = {}) {\n",
       "  const element = document.createElement('span');\n",
       "  element.textContent = text;\n",
       "  for (const key of Object.keys(styleAttributes)) {\n",
       "    element.style[key] = styleAttributes[key];\n",
       "  }\n",
       "  return element;\n",
       "}\n",
       "\n",
       "// Max number of bytes which will be uploaded at a time.\n",
       "const MAX_PAYLOAD_SIZE = 100 * 1024;\n",
       "\n",
       "function _uploadFiles(inputId, outputId) {\n",
       "  const steps = uploadFilesStep(inputId, outputId);\n",
       "  const outputElement = document.getElementById(outputId);\n",
       "  // Cache steps on the outputElement to make it available for the next call\n",
       "  // to uploadFilesContinue from Python.\n",
       "  outputElement.steps = steps;\n",
       "\n",
       "  return _uploadFilesContinue(outputId);\n",
       "}\n",
       "\n",
       "// This is roughly an async generator (not supported in the browser yet),\n",
       "// where there are multiple asynchronous steps and the Python side is going\n",
       "// to poll for completion of each step.\n",
       "// This uses a Promise to block the python side on completion of each step,\n",
       "// then passes the result of the previous step as the input to the next step.\n",
       "function _uploadFilesContinue(outputId) {\n",
       "  const outputElement = document.getElementById(outputId);\n",
       "  const steps = outputElement.steps;\n",
       "\n",
       "  const next = steps.next(outputElement.lastPromiseValue);\n",
       "  return Promise.resolve(next.value.promise).then((value) => {\n",
       "    // Cache the last promise value to make it available to the next\n",
       "    // step of the generator.\n",
       "    outputElement.lastPromiseValue = value;\n",
       "    return next.value.response;\n",
       "  });\n",
       "}\n",
       "\n",
       "/**\n",
       " * Generator function which is called between each async step of the upload\n",
       " * process.\n",
       " * @param {string} inputId Element ID of the input file picker element.\n",
       " * @param {string} outputId Element ID of the output display.\n",
       " * @return {!Iterable<!Object>} Iterable of next steps.\n",
       " */\n",
       "function* uploadFilesStep(inputId, outputId) {\n",
       "  const inputElement = document.getElementById(inputId);\n",
       "  inputElement.disabled = false;\n",
       "\n",
       "  const outputElement = document.getElementById(outputId);\n",
       "  outputElement.innerHTML = '';\n",
       "\n",
       "  const pickedPromise = new Promise((resolve) => {\n",
       "    inputElement.addEventListener('change', (e) => {\n",
       "      resolve(e.target.files);\n",
       "    });\n",
       "  });\n",
       "\n",
       "  const cancel = document.createElement('button');\n",
       "  inputElement.parentElement.appendChild(cancel);\n",
       "  cancel.textContent = 'Cancel upload';\n",
       "  const cancelPromise = new Promise((resolve) => {\n",
       "    cancel.onclick = () => {\n",
       "      resolve(null);\n",
       "    };\n",
       "  });\n",
       "\n",
       "  // Wait for the user to pick the files.\n",
       "  const files = yield {\n",
       "    promise: Promise.race([pickedPromise, cancelPromise]),\n",
       "    response: {\n",
       "      action: 'starting',\n",
       "    }\n",
       "  };\n",
       "\n",
       "  cancel.remove();\n",
       "\n",
       "  // Disable the input element since further picks are not allowed.\n",
       "  inputElement.disabled = true;\n",
       "\n",
       "  if (!files) {\n",
       "    return {\n",
       "      response: {\n",
       "        action: 'complete',\n",
       "      }\n",
       "    };\n",
       "  }\n",
       "\n",
       "  for (const file of files) {\n",
       "    const li = document.createElement('li');\n",
       "    li.append(span(file.name, {fontWeight: 'bold'}));\n",
       "    li.append(span(\n",
       "        `(${file.type || 'n/a'}) - ${file.size} bytes, ` +\n",
       "        `last modified: ${\n",
       "            file.lastModifiedDate ? file.lastModifiedDate.toLocaleDateString() :\n",
       "                                    'n/a'} - `));\n",
       "    const percent = span('0% done');\n",
       "    li.appendChild(percent);\n",
       "\n",
       "    outputElement.appendChild(li);\n",
       "\n",
       "    const fileDataPromise = new Promise((resolve) => {\n",
       "      const reader = new FileReader();\n",
       "      reader.onload = (e) => {\n",
       "        resolve(e.target.result);\n",
       "      };\n",
       "      reader.readAsArrayBuffer(file);\n",
       "    });\n",
       "    // Wait for the data to be ready.\n",
       "    let fileData = yield {\n",
       "      promise: fileDataPromise,\n",
       "      response: {\n",
       "        action: 'continue',\n",
       "      }\n",
       "    };\n",
       "\n",
       "    // Use a chunked sending to avoid message size limits. See b/62115660.\n",
       "    let position = 0;\n",
       "    do {\n",
       "      const length = Math.min(fileData.byteLength - position, MAX_PAYLOAD_SIZE);\n",
       "      const chunk = new Uint8Array(fileData, position, length);\n",
       "      position += length;\n",
       "\n",
       "      const base64 = btoa(String.fromCharCode.apply(null, chunk));\n",
       "      yield {\n",
       "        response: {\n",
       "          action: 'append',\n",
       "          file: file.name,\n",
       "          data: base64,\n",
       "        },\n",
       "      };\n",
       "\n",
       "      let percentDone = fileData.byteLength === 0 ?\n",
       "          100 :\n",
       "          Math.round((position / fileData.byteLength) * 100);\n",
       "      percent.textContent = `${percentDone}% done`;\n",
       "\n",
       "    } while (position < fileData.byteLength);\n",
       "  }\n",
       "\n",
       "  // All done.\n",
       "  yield {\n",
       "    response: {\n",
       "      action: 'complete',\n",
       "    }\n",
       "  };\n",
       "}\n",
       "\n",
       "scope.google = scope.google || {};\n",
       "scope.google.colab = scope.google.colab || {};\n",
       "scope.google.colab._files = {\n",
       "  _uploadFiles,\n",
       "  _uploadFilesContinue,\n",
       "};\n",
       "})(self);\n",
       "</script> "
      ],
      "text/plain": [
       "<IPython.core.display.HTML object>"
      ]
     },
     "metadata": {},
     "output_type": "display_data"
    },
    {
     "name": "stdout",
     "output_type": "stream",
     "text": [
      "Saving Live.csv to Live.csv\n"
     ]
    }
   ],
   "source": [
    "from google.colab import files\n",
    "uploaded = files.upload()"
   ]
  },
  {
   "cell_type": "markdown",
   "metadata": {
    "id": "YQKpDbscWphd"
   },
   "source": [
    "# Import Libraries"
   ]
  },
  {
   "cell_type": "code",
   "execution_count": 32,
   "metadata": {
    "id": "aAeIhmYDShQJ"
   },
   "outputs": [],
   "source": [
    "# Your code to import libraries\n",
    "import numpy as np\n",
    "import pandas as pd\n",
    "import matplotlib.pyplot as plt\n",
    "import seaborn as sns\n",
    "%matplotlib inline"
   ]
  },
  {
   "cell_type": "markdown",
   "metadata": {
    "id": "Kr2Z-qBYWtQ5"
   },
   "source": [
    "# Read File"
   ]
  },
  {
   "cell_type": "code",
   "execution_count": 2,
   "metadata": {
    "id": "2kVhVB39SwMB"
   },
   "outputs": [],
   "source": [
    "# Your code to read file\n",
    "data = pd.read_csv(\"Live.csv\")\n"
   ]
  },
  {
   "cell_type": "markdown",
   "metadata": {
    "id": "KdkGfm16Wv8A"
   },
   "source": [
    "# Print the shape of the data. How many rows and columns are there?"
   ]
  },
  {
   "cell_type": "code",
   "execution_count": 3,
   "metadata": {
    "id": "47fiEXFuS9bZ"
   },
   "outputs": [
    {
     "data": {
      "text/plain": [
       "(7050, 16)"
      ]
     },
     "execution_count": 3,
     "metadata": {},
     "output_type": "execute_result"
    }
   ],
   "source": [
    "# Your code to print the shape of the data\n",
    "data.shape"
   ]
  },
  {
   "cell_type": "markdown",
   "metadata": {
    "id": "ZPaq-TbyW8Lh"
   },
   "source": [
    "# Preview the dataset"
   ]
  },
  {
   "cell_type": "code",
   "execution_count": 4,
   "metadata": {
    "id": "B_wKWpzTS_rb"
   },
   "outputs": [
    {
     "data": {
      "text/html": [
       "<div>\n",
       "<style scoped>\n",
       "    .dataframe tbody tr th:only-of-type {\n",
       "        vertical-align: middle;\n",
       "    }\n",
       "\n",
       "    .dataframe tbody tr th {\n",
       "        vertical-align: top;\n",
       "    }\n",
       "\n",
       "    .dataframe thead th {\n",
       "        text-align: right;\n",
       "    }\n",
       "</style>\n",
       "<table border=\"1\" class=\"dataframe\">\n",
       "  <thead>\n",
       "    <tr style=\"text-align: right;\">\n",
       "      <th></th>\n",
       "      <th>status_id</th>\n",
       "      <th>status_type</th>\n",
       "      <th>status_published</th>\n",
       "      <th>num_reactions</th>\n",
       "      <th>num_comments</th>\n",
       "      <th>num_shares</th>\n",
       "      <th>num_likes</th>\n",
       "      <th>num_loves</th>\n",
       "      <th>num_wows</th>\n",
       "      <th>num_hahas</th>\n",
       "      <th>num_sads</th>\n",
       "      <th>num_angrys</th>\n",
       "      <th>Column1</th>\n",
       "      <th>Column2</th>\n",
       "      <th>Column3</th>\n",
       "      <th>Column4</th>\n",
       "    </tr>\n",
       "  </thead>\n",
       "  <tbody>\n",
       "    <tr>\n",
       "      <th>0</th>\n",
       "      <td>246675545449582_1649696485147474</td>\n",
       "      <td>video</td>\n",
       "      <td>4/22/2018 6:00</td>\n",
       "      <td>529</td>\n",
       "      <td>512</td>\n",
       "      <td>262</td>\n",
       "      <td>432</td>\n",
       "      <td>92</td>\n",
       "      <td>3</td>\n",
       "      <td>1</td>\n",
       "      <td>1</td>\n",
       "      <td>0</td>\n",
       "      <td>NaN</td>\n",
       "      <td>NaN</td>\n",
       "      <td>NaN</td>\n",
       "      <td>NaN</td>\n",
       "    </tr>\n",
       "    <tr>\n",
       "      <th>1</th>\n",
       "      <td>246675545449582_1649426988507757</td>\n",
       "      <td>photo</td>\n",
       "      <td>4/21/2018 22:45</td>\n",
       "      <td>150</td>\n",
       "      <td>0</td>\n",
       "      <td>0</td>\n",
       "      <td>150</td>\n",
       "      <td>0</td>\n",
       "      <td>0</td>\n",
       "      <td>0</td>\n",
       "      <td>0</td>\n",
       "      <td>0</td>\n",
       "      <td>NaN</td>\n",
       "      <td>NaN</td>\n",
       "      <td>NaN</td>\n",
       "      <td>NaN</td>\n",
       "    </tr>\n",
       "    <tr>\n",
       "      <th>2</th>\n",
       "      <td>246675545449582_1648730588577397</td>\n",
       "      <td>video</td>\n",
       "      <td>4/21/2018 6:17</td>\n",
       "      <td>227</td>\n",
       "      <td>236</td>\n",
       "      <td>57</td>\n",
       "      <td>204</td>\n",
       "      <td>21</td>\n",
       "      <td>1</td>\n",
       "      <td>1</td>\n",
       "      <td>0</td>\n",
       "      <td>0</td>\n",
       "      <td>NaN</td>\n",
       "      <td>NaN</td>\n",
       "      <td>NaN</td>\n",
       "      <td>NaN</td>\n",
       "    </tr>\n",
       "    <tr>\n",
       "      <th>3</th>\n",
       "      <td>246675545449582_1648576705259452</td>\n",
       "      <td>photo</td>\n",
       "      <td>4/21/2018 2:29</td>\n",
       "      <td>111</td>\n",
       "      <td>0</td>\n",
       "      <td>0</td>\n",
       "      <td>111</td>\n",
       "      <td>0</td>\n",
       "      <td>0</td>\n",
       "      <td>0</td>\n",
       "      <td>0</td>\n",
       "      <td>0</td>\n",
       "      <td>NaN</td>\n",
       "      <td>NaN</td>\n",
       "      <td>NaN</td>\n",
       "      <td>NaN</td>\n",
       "    </tr>\n",
       "    <tr>\n",
       "      <th>4</th>\n",
       "      <td>246675545449582_1645700502213739</td>\n",
       "      <td>photo</td>\n",
       "      <td>4/18/2018 3:22</td>\n",
       "      <td>213</td>\n",
       "      <td>0</td>\n",
       "      <td>0</td>\n",
       "      <td>204</td>\n",
       "      <td>9</td>\n",
       "      <td>0</td>\n",
       "      <td>0</td>\n",
       "      <td>0</td>\n",
       "      <td>0</td>\n",
       "      <td>NaN</td>\n",
       "      <td>NaN</td>\n",
       "      <td>NaN</td>\n",
       "      <td>NaN</td>\n",
       "    </tr>\n",
       "  </tbody>\n",
       "</table>\n",
       "</div>"
      ],
      "text/plain": [
       "                          status_id status_type status_published  \\\n",
       "0  246675545449582_1649696485147474       video   4/22/2018 6:00   \n",
       "1  246675545449582_1649426988507757       photo  4/21/2018 22:45   \n",
       "2  246675545449582_1648730588577397       video   4/21/2018 6:17   \n",
       "3  246675545449582_1648576705259452       photo   4/21/2018 2:29   \n",
       "4  246675545449582_1645700502213739       photo   4/18/2018 3:22   \n",
       "\n",
       "   num_reactions  num_comments  num_shares  num_likes  num_loves  num_wows  \\\n",
       "0            529           512         262        432         92         3   \n",
       "1            150             0           0        150          0         0   \n",
       "2            227           236          57        204         21         1   \n",
       "3            111             0           0        111          0         0   \n",
       "4            213             0           0        204          9         0   \n",
       "\n",
       "   num_hahas  num_sads  num_angrys  Column1  Column2  Column3  Column4  \n",
       "0          1         1           0      NaN      NaN      NaN      NaN  \n",
       "1          0         0           0      NaN      NaN      NaN      NaN  \n",
       "2          1         0           0      NaN      NaN      NaN      NaN  \n",
       "3          0         0           0      NaN      NaN      NaN      NaN  \n",
       "4          0         0           0      NaN      NaN      NaN      NaN  "
      ]
     },
     "execution_count": 4,
     "metadata": {},
     "output_type": "execute_result"
    }
   ],
   "source": [
    "# Your code to preview the dataset\n",
    "data.head()"
   ]
  },
  {
   "cell_type": "markdown",
   "metadata": {
    "id": "382IU4IyXKrl"
   },
   "source": [
    "View summary of dataset\n"
   ]
  },
  {
   "cell_type": "code",
   "execution_count": 5,
   "metadata": {
    "id": "dTsYNd8rTvoR"
   },
   "outputs": [
    {
     "name": "stdout",
     "output_type": "stream",
     "text": [
      "<class 'pandas.core.frame.DataFrame'>\n",
      "RangeIndex: 7050 entries, 0 to 7049\n",
      "Data columns (total 16 columns):\n",
      " #   Column            Non-Null Count  Dtype  \n",
      "---  ------            --------------  -----  \n",
      " 0   status_id         7050 non-null   object \n",
      " 1   status_type       7050 non-null   object \n",
      " 2   status_published  7050 non-null   object \n",
      " 3   num_reactions     7050 non-null   int64  \n",
      " 4   num_comments      7050 non-null   int64  \n",
      " 5   num_shares        7050 non-null   int64  \n",
      " 6   num_likes         7050 non-null   int64  \n",
      " 7   num_loves         7050 non-null   int64  \n",
      " 8   num_wows          7050 non-null   int64  \n",
      " 9   num_hahas         7050 non-null   int64  \n",
      " 10  num_sads          7050 non-null   int64  \n",
      " 11  num_angrys        7050 non-null   int64  \n",
      " 12  Column1           0 non-null      float64\n",
      " 13  Column2           0 non-null      float64\n",
      " 14  Column3           0 non-null      float64\n",
      " 15  Column4           0 non-null      float64\n",
      "dtypes: float64(4), int64(9), object(3)\n",
      "memory usage: 881.4+ KB\n"
     ]
    }
   ],
   "source": [
    "# Your code to print summary of the dataset\n",
    "data.info()"
   ]
  },
  {
   "cell_type": "markdown",
   "metadata": {
    "id": "Bmn-CxNJXPLU"
   },
   "source": [
    "# Check for missing values in dataset"
   ]
  },
  {
   "cell_type": "code",
   "execution_count": 6,
   "metadata": {
    "id": "mY8U5rJaTzZh"
   },
   "outputs": [
    {
     "data": {
      "text/plain": [
       "status_id              0\n",
       "status_type            0\n",
       "status_published       0\n",
       "num_reactions          0\n",
       "num_comments           0\n",
       "num_shares             0\n",
       "num_likes              0\n",
       "num_loves              0\n",
       "num_wows               0\n",
       "num_hahas              0\n",
       "num_sads               0\n",
       "num_angrys             0\n",
       "Column1             7050\n",
       "Column2             7050\n",
       "Column3             7050\n",
       "Column4             7050\n",
       "dtype: int64"
      ]
     },
     "execution_count": 6,
     "metadata": {},
     "output_type": "execute_result"
    }
   ],
   "source": [
    "# Your code to check missing value in the dataset\n",
    "data.isnull().sum()"
   ]
  },
  {
   "cell_type": "markdown",
   "metadata": {
    "id": "9SMSn5E1XcEx"
   },
   "source": [
    "#Drop redundant columns. Which columns are redundant?"
   ]
  },
  {
   "cell_type": "code",
   "execution_count": 7,
   "metadata": {
    "id": "oMbjqGX4T4dv"
   },
   "outputs": [],
   "source": [
    "# Your code to drop the drop the redundant colimns\n",
    "data.drop([\"Column1\" , \"Column2\" , \"Column3\" , \"Column4\"] , axis=1 , inplace=True)"
   ]
  },
  {
   "cell_type": "markdown",
   "metadata": {
    "id": "xnzjiRXiXk83"
   },
   "source": [
    "# View summary of dataset"
   ]
  },
  {
   "cell_type": "code",
   "execution_count": 8,
   "metadata": {
    "id": "BTMo9XsZUAVV"
   },
   "outputs": [
    {
     "name": "stdout",
     "output_type": "stream",
     "text": [
      "<class 'pandas.core.frame.DataFrame'>\n",
      "RangeIndex: 7050 entries, 0 to 7049\n",
      "Data columns (total 12 columns):\n",
      " #   Column            Non-Null Count  Dtype \n",
      "---  ------            --------------  ----- \n",
      " 0   status_id         7050 non-null   object\n",
      " 1   status_type       7050 non-null   object\n",
      " 2   status_published  7050 non-null   object\n",
      " 3   num_reactions     7050 non-null   int64 \n",
      " 4   num_comments      7050 non-null   int64 \n",
      " 5   num_shares        7050 non-null   int64 \n",
      " 6   num_likes         7050 non-null   int64 \n",
      " 7   num_loves         7050 non-null   int64 \n",
      " 8   num_wows          7050 non-null   int64 \n",
      " 9   num_hahas         7050 non-null   int64 \n",
      " 10  num_sads          7050 non-null   int64 \n",
      " 11  num_angrys        7050 non-null   int64 \n",
      "dtypes: int64(9), object(3)\n",
      "memory usage: 661.1+ KB\n"
     ]
    }
   ],
   "source": [
    "# Your code to print the summary of the dataset\n",
    "data.info()"
   ]
  },
  {
   "cell_type": "markdown",
   "metadata": {
    "id": "HHIgKv7sXqr0"
   },
   "source": [
    "# View the statistical summary of numerical variables. Use 'describe method'\n"
   ]
  },
  {
   "cell_type": "code",
   "execution_count": 9,
   "metadata": {
    "id": "xaKdgSS3UEtS"
   },
   "outputs": [
    {
     "data": {
      "text/html": [
       "<div>\n",
       "<style scoped>\n",
       "    .dataframe tbody tr th:only-of-type {\n",
       "        vertical-align: middle;\n",
       "    }\n",
       "\n",
       "    .dataframe tbody tr th {\n",
       "        vertical-align: top;\n",
       "    }\n",
       "\n",
       "    .dataframe thead th {\n",
       "        text-align: right;\n",
       "    }\n",
       "</style>\n",
       "<table border=\"1\" class=\"dataframe\">\n",
       "  <thead>\n",
       "    <tr style=\"text-align: right;\">\n",
       "      <th></th>\n",
       "      <th>num_reactions</th>\n",
       "      <th>num_comments</th>\n",
       "      <th>num_shares</th>\n",
       "      <th>num_likes</th>\n",
       "      <th>num_loves</th>\n",
       "      <th>num_wows</th>\n",
       "      <th>num_hahas</th>\n",
       "      <th>num_sads</th>\n",
       "      <th>num_angrys</th>\n",
       "    </tr>\n",
       "  </thead>\n",
       "  <tbody>\n",
       "    <tr>\n",
       "      <th>count</th>\n",
       "      <td>7050.000000</td>\n",
       "      <td>7050.000000</td>\n",
       "      <td>7050.000000</td>\n",
       "      <td>7050.000000</td>\n",
       "      <td>7050.000000</td>\n",
       "      <td>7050.000000</td>\n",
       "      <td>7050.000000</td>\n",
       "      <td>7050.000000</td>\n",
       "      <td>7050.000000</td>\n",
       "    </tr>\n",
       "    <tr>\n",
       "      <th>mean</th>\n",
       "      <td>230.117163</td>\n",
       "      <td>224.356028</td>\n",
       "      <td>40.022553</td>\n",
       "      <td>215.043121</td>\n",
       "      <td>12.728652</td>\n",
       "      <td>1.289362</td>\n",
       "      <td>0.696454</td>\n",
       "      <td>0.243688</td>\n",
       "      <td>0.113191</td>\n",
       "    </tr>\n",
       "    <tr>\n",
       "      <th>std</th>\n",
       "      <td>462.625309</td>\n",
       "      <td>889.636820</td>\n",
       "      <td>131.599965</td>\n",
       "      <td>449.472357</td>\n",
       "      <td>39.972930</td>\n",
       "      <td>8.719650</td>\n",
       "      <td>3.957183</td>\n",
       "      <td>1.597156</td>\n",
       "      <td>0.726812</td>\n",
       "    </tr>\n",
       "    <tr>\n",
       "      <th>min</th>\n",
       "      <td>0.000000</td>\n",
       "      <td>0.000000</td>\n",
       "      <td>0.000000</td>\n",
       "      <td>0.000000</td>\n",
       "      <td>0.000000</td>\n",
       "      <td>0.000000</td>\n",
       "      <td>0.000000</td>\n",
       "      <td>0.000000</td>\n",
       "      <td>0.000000</td>\n",
       "    </tr>\n",
       "    <tr>\n",
       "      <th>25%</th>\n",
       "      <td>17.000000</td>\n",
       "      <td>0.000000</td>\n",
       "      <td>0.000000</td>\n",
       "      <td>17.000000</td>\n",
       "      <td>0.000000</td>\n",
       "      <td>0.000000</td>\n",
       "      <td>0.000000</td>\n",
       "      <td>0.000000</td>\n",
       "      <td>0.000000</td>\n",
       "    </tr>\n",
       "    <tr>\n",
       "      <th>50%</th>\n",
       "      <td>59.500000</td>\n",
       "      <td>4.000000</td>\n",
       "      <td>0.000000</td>\n",
       "      <td>58.000000</td>\n",
       "      <td>0.000000</td>\n",
       "      <td>0.000000</td>\n",
       "      <td>0.000000</td>\n",
       "      <td>0.000000</td>\n",
       "      <td>0.000000</td>\n",
       "    </tr>\n",
       "    <tr>\n",
       "      <th>75%</th>\n",
       "      <td>219.000000</td>\n",
       "      <td>23.000000</td>\n",
       "      <td>4.000000</td>\n",
       "      <td>184.750000</td>\n",
       "      <td>3.000000</td>\n",
       "      <td>0.000000</td>\n",
       "      <td>0.000000</td>\n",
       "      <td>0.000000</td>\n",
       "      <td>0.000000</td>\n",
       "    </tr>\n",
       "    <tr>\n",
       "      <th>max</th>\n",
       "      <td>4710.000000</td>\n",
       "      <td>20990.000000</td>\n",
       "      <td>3424.000000</td>\n",
       "      <td>4710.000000</td>\n",
       "      <td>657.000000</td>\n",
       "      <td>278.000000</td>\n",
       "      <td>157.000000</td>\n",
       "      <td>51.000000</td>\n",
       "      <td>31.000000</td>\n",
       "    </tr>\n",
       "  </tbody>\n",
       "</table>\n",
       "</div>"
      ],
      "text/plain": [
       "       num_reactions  num_comments   num_shares    num_likes    num_loves  \\\n",
       "count    7050.000000   7050.000000  7050.000000  7050.000000  7050.000000   \n",
       "mean      230.117163    224.356028    40.022553   215.043121    12.728652   \n",
       "std       462.625309    889.636820   131.599965   449.472357    39.972930   \n",
       "min         0.000000      0.000000     0.000000     0.000000     0.000000   \n",
       "25%        17.000000      0.000000     0.000000    17.000000     0.000000   \n",
       "50%        59.500000      4.000000     0.000000    58.000000     0.000000   \n",
       "75%       219.000000     23.000000     4.000000   184.750000     3.000000   \n",
       "max      4710.000000  20990.000000  3424.000000  4710.000000   657.000000   \n",
       "\n",
       "          num_wows    num_hahas     num_sads   num_angrys  \n",
       "count  7050.000000  7050.000000  7050.000000  7050.000000  \n",
       "mean      1.289362     0.696454     0.243688     0.113191  \n",
       "std       8.719650     3.957183     1.597156     0.726812  \n",
       "min       0.000000     0.000000     0.000000     0.000000  \n",
       "25%       0.000000     0.000000     0.000000     0.000000  \n",
       "50%       0.000000     0.000000     0.000000     0.000000  \n",
       "75%       0.000000     0.000000     0.000000     0.000000  \n",
       "max     278.000000   157.000000    51.000000    31.000000  "
      ]
     },
     "execution_count": 9,
     "metadata": {},
     "output_type": "execute_result"
    }
   ],
   "source": [
    "# Your code to print the statistical summary of the dataset\n",
    "data.describe()"
   ]
  },
  {
   "cell_type": "markdown",
   "metadata": {
    "id": "TcBjBnZwYGX1"
   },
   "source": [
    "# There are 3 categorical variables in the dataset. We will explore them one by one.\n",
    "\n",
    "# Explore status_id variable. Find the unique values of the column 'status_id'"
   ]
  },
  {
   "cell_type": "code",
   "execution_count": 10,
   "metadata": {
    "id": "wYZN9mllUdsi"
   },
   "outputs": [
    {
     "data": {
      "text/plain": [
       "6997"
      ]
     },
     "execution_count": 10,
     "metadata": {},
     "output_type": "execute_result"
    }
   ],
   "source": [
    "# Your code to print the unique values of the variable 'status_id'\n",
    "len(data[\"status_id\"].unique())"
   ]
  },
  {
   "cell_type": "markdown",
   "metadata": {
    "id": "k1viquksYXSm"
   },
   "source": [
    "# View how many different types of variables are there\n",
    "\n",
    "Based on the results, determine what you need to do with this column - 'Drop it' or 'Keep it'"
   ]
  },
  {
   "cell_type": "code",
   "execution_count": 11,
   "metadata": {
    "id": "2Pbbhl_jUgLt"
   },
   "outputs": [
    {
     "data": {
      "text/plain": [
       "819700534875473_957599447752247      2\n",
       "819700534875473_972433889602136      2\n",
       "819700534875473_981835315328660      2\n",
       "819700534875473_980941638751361      2\n",
       "819700534875473_978746665637525      2\n",
       "                                    ..\n",
       "246675545449582_264078163709320      1\n",
       "246675545449582_264081010375702      1\n",
       "246675545449582_264089710374832      1\n",
       "246675545449582_264092513707885      1\n",
       "1050855161656896_1050858841656528    1\n",
       "Name: status_id, Length: 6997, dtype: int64"
      ]
     },
     "execution_count": 11,
     "metadata": {},
     "output_type": "execute_result"
    }
   ],
   "source": [
    "# Your code to determine the number of different types of the variable\n",
    "data[\"status_id\"].value_counts()"
   ]
  },
  {
   "cell_type": "markdown",
   "metadata": {
    "id": "LAp8XjCfYxdz"
   },
   "source": [
    "# Explore 'status_published' column and decide whether to drop or keep it."
   ]
  },
  {
   "cell_type": "code",
   "execution_count": 12,
   "metadata": {
    "id": "8oNSWXJfUjnO"
   },
   "outputs": [
    {
     "data": {
      "text/plain": [
       "array(['4/22/2018 6:00', '4/21/2018 22:45', '4/21/2018 6:17', ...,\n",
       "       '9/21/2016 23:03', '9/20/2016 0:43', '9/10/2016 10:30'],\n",
       "      dtype=object)"
      ]
     },
     "execution_count": 12,
     "metadata": {},
     "output_type": "execute_result"
    }
   ],
   "source": [
    "# Your code to print the unique values of the variable 'statu_published'\n",
    "data['status_published'].unique()"
   ]
  },
  {
   "cell_type": "code",
   "execution_count": 13,
   "metadata": {
    "colab": {
     "base_uri": "https://localhost:8080/"
    },
    "id": "CeGjRC-AUmO-",
    "outputId": "5d900bc7-7384-4a59-f2ee-5813aad9d41b"
   },
   "outputs": [
    {
     "data": {
      "text/plain": [
       "3/20/2018 1:54     3\n",
       "12/28/2017 8:09    2\n",
       "4/30/2018 6:20     2\n",
       "4/26/2018 19:00    2\n",
       "4/23/2018 7:26     2\n",
       "                  ..\n",
       "9/6/2012 9:01      1\n",
       "9/6/2012 9:16      1\n",
       "9/6/2012 23:17     1\n",
       "9/7/2012 0:21      1\n",
       "9/10/2016 10:30    1\n",
       "Name: status_published, Length: 6913, dtype: int64"
      ]
     },
     "execution_count": 13,
     "metadata": {},
     "output_type": "execute_result"
    }
   ],
   "source": [
    "# Your code to determine the number of different types of the variable\n",
    "data['status_published'].value_counts()"
   ]
  },
  {
   "cell_type": "markdown",
   "metadata": {
    "id": "-annYSZoZFPA"
   },
   "source": [
    "# Explore 'status_type' and decide whether to drop or keep it"
   ]
  },
  {
   "cell_type": "code",
   "execution_count": 14,
   "metadata": {
    "id": "ZRwUcMGQU2uW"
   },
   "outputs": [
    {
     "data": {
      "text/plain": [
       "array(['video', 'photo', 'link', 'status'], dtype=object)"
      ]
     },
     "execution_count": 14,
     "metadata": {},
     "output_type": "execute_result"
    }
   ],
   "source": [
    "# Your code to print the unique values of the variable 'status_type'\n",
    "data[\"status_type\"].unique()"
   ]
  },
  {
   "cell_type": "markdown",
   "metadata": {
    "id": "mCtNgu9aY-zR"
   },
   "source": []
  },
  {
   "cell_type": "code",
   "execution_count": 15,
   "metadata": {
    "id": "udekDr4cU5QS"
   },
   "outputs": [],
   "source": [
    "# Your code to determine the number of different types of the variable 'status_type'\n",
    "data = data.drop(['status_id' , 'status_published'], axis=1)"
   ]
  },
  {
   "cell_type": "code",
   "execution_count": null,
   "metadata": {
    "id": "8HwLTGJ1U8XH"
   },
   "outputs": [],
   "source": [
    "# Drop some variables, if necessary"
   ]
  },
  {
   "cell_type": "markdown",
   "metadata": {
    "id": "kdxFHn1tZSly"
   },
   "source": [
    "# After processing, print the summary of dataset again."
   ]
  },
  {
   "cell_type": "code",
   "execution_count": 16,
   "metadata": {
    "id": "c5apR1OYU-iG"
   },
   "outputs": [
    {
     "data": {
      "text/html": [
       "<div>\n",
       "<style scoped>\n",
       "    .dataframe tbody tr th:only-of-type {\n",
       "        vertical-align: middle;\n",
       "    }\n",
       "\n",
       "    .dataframe tbody tr th {\n",
       "        vertical-align: top;\n",
       "    }\n",
       "\n",
       "    .dataframe thead th {\n",
       "        text-align: right;\n",
       "    }\n",
       "</style>\n",
       "<table border=\"1\" class=\"dataframe\">\n",
       "  <thead>\n",
       "    <tr style=\"text-align: right;\">\n",
       "      <th></th>\n",
       "      <th>num_reactions</th>\n",
       "      <th>num_comments</th>\n",
       "      <th>num_shares</th>\n",
       "      <th>num_likes</th>\n",
       "      <th>num_loves</th>\n",
       "      <th>num_wows</th>\n",
       "      <th>num_hahas</th>\n",
       "      <th>num_sads</th>\n",
       "      <th>num_angrys</th>\n",
       "    </tr>\n",
       "  </thead>\n",
       "  <tbody>\n",
       "    <tr>\n",
       "      <th>count</th>\n",
       "      <td>7050.000000</td>\n",
       "      <td>7050.000000</td>\n",
       "      <td>7050.000000</td>\n",
       "      <td>7050.000000</td>\n",
       "      <td>7050.000000</td>\n",
       "      <td>7050.000000</td>\n",
       "      <td>7050.000000</td>\n",
       "      <td>7050.000000</td>\n",
       "      <td>7050.000000</td>\n",
       "    </tr>\n",
       "    <tr>\n",
       "      <th>mean</th>\n",
       "      <td>230.117163</td>\n",
       "      <td>224.356028</td>\n",
       "      <td>40.022553</td>\n",
       "      <td>215.043121</td>\n",
       "      <td>12.728652</td>\n",
       "      <td>1.289362</td>\n",
       "      <td>0.696454</td>\n",
       "      <td>0.243688</td>\n",
       "      <td>0.113191</td>\n",
       "    </tr>\n",
       "    <tr>\n",
       "      <th>std</th>\n",
       "      <td>462.625309</td>\n",
       "      <td>889.636820</td>\n",
       "      <td>131.599965</td>\n",
       "      <td>449.472357</td>\n",
       "      <td>39.972930</td>\n",
       "      <td>8.719650</td>\n",
       "      <td>3.957183</td>\n",
       "      <td>1.597156</td>\n",
       "      <td>0.726812</td>\n",
       "    </tr>\n",
       "    <tr>\n",
       "      <th>min</th>\n",
       "      <td>0.000000</td>\n",
       "      <td>0.000000</td>\n",
       "      <td>0.000000</td>\n",
       "      <td>0.000000</td>\n",
       "      <td>0.000000</td>\n",
       "      <td>0.000000</td>\n",
       "      <td>0.000000</td>\n",
       "      <td>0.000000</td>\n",
       "      <td>0.000000</td>\n",
       "    </tr>\n",
       "    <tr>\n",
       "      <th>25%</th>\n",
       "      <td>17.000000</td>\n",
       "      <td>0.000000</td>\n",
       "      <td>0.000000</td>\n",
       "      <td>17.000000</td>\n",
       "      <td>0.000000</td>\n",
       "      <td>0.000000</td>\n",
       "      <td>0.000000</td>\n",
       "      <td>0.000000</td>\n",
       "      <td>0.000000</td>\n",
       "    </tr>\n",
       "    <tr>\n",
       "      <th>50%</th>\n",
       "      <td>59.500000</td>\n",
       "      <td>4.000000</td>\n",
       "      <td>0.000000</td>\n",
       "      <td>58.000000</td>\n",
       "      <td>0.000000</td>\n",
       "      <td>0.000000</td>\n",
       "      <td>0.000000</td>\n",
       "      <td>0.000000</td>\n",
       "      <td>0.000000</td>\n",
       "    </tr>\n",
       "    <tr>\n",
       "      <th>75%</th>\n",
       "      <td>219.000000</td>\n",
       "      <td>23.000000</td>\n",
       "      <td>4.000000</td>\n",
       "      <td>184.750000</td>\n",
       "      <td>3.000000</td>\n",
       "      <td>0.000000</td>\n",
       "      <td>0.000000</td>\n",
       "      <td>0.000000</td>\n",
       "      <td>0.000000</td>\n",
       "    </tr>\n",
       "    <tr>\n",
       "      <th>max</th>\n",
       "      <td>4710.000000</td>\n",
       "      <td>20990.000000</td>\n",
       "      <td>3424.000000</td>\n",
       "      <td>4710.000000</td>\n",
       "      <td>657.000000</td>\n",
       "      <td>278.000000</td>\n",
       "      <td>157.000000</td>\n",
       "      <td>51.000000</td>\n",
       "      <td>31.000000</td>\n",
       "    </tr>\n",
       "  </tbody>\n",
       "</table>\n",
       "</div>"
      ],
      "text/plain": [
       "       num_reactions  num_comments   num_shares    num_likes    num_loves  \\\n",
       "count    7050.000000   7050.000000  7050.000000  7050.000000  7050.000000   \n",
       "mean      230.117163    224.356028    40.022553   215.043121    12.728652   \n",
       "std       462.625309    889.636820   131.599965   449.472357    39.972930   \n",
       "min         0.000000      0.000000     0.000000     0.000000     0.000000   \n",
       "25%        17.000000      0.000000     0.000000    17.000000     0.000000   \n",
       "50%        59.500000      4.000000     0.000000    58.000000     0.000000   \n",
       "75%       219.000000     23.000000     4.000000   184.750000     3.000000   \n",
       "max      4710.000000  20990.000000  3424.000000  4710.000000   657.000000   \n",
       "\n",
       "          num_wows    num_hahas     num_sads   num_angrys  \n",
       "count  7050.000000  7050.000000  7050.000000  7050.000000  \n",
       "mean      1.289362     0.696454     0.243688     0.113191  \n",
       "std       8.719650     3.957183     1.597156     0.726812  \n",
       "min       0.000000     0.000000     0.000000     0.000000  \n",
       "25%       0.000000     0.000000     0.000000     0.000000  \n",
       "50%       0.000000     0.000000     0.000000     0.000000  \n",
       "75%       0.000000     0.000000     0.000000     0.000000  \n",
       "max     278.000000   157.000000    51.000000    31.000000  "
      ]
     },
     "execution_count": 16,
     "metadata": {},
     "output_type": "execute_result"
    }
   ],
   "source": [
    "# Your code to print the summary of the dataset\n",
    "data.describe()"
   ]
  },
  {
   "cell_type": "markdown",
   "metadata": {
    "id": "saSJ807MZql6"
   },
   "source": []
  },
  {
   "cell_type": "markdown",
   "metadata": {
    "id": "FL2BJfoZZ45u"
   },
   "source": [
    "# Preview the dataset again"
   ]
  },
  {
   "cell_type": "code",
   "execution_count": 17,
   "metadata": {
    "id": "afgTfIBwVBMV"
   },
   "outputs": [
    {
     "data": {
      "text/html": [
       "<div>\n",
       "<style scoped>\n",
       "    .dataframe tbody tr th:only-of-type {\n",
       "        vertical-align: middle;\n",
       "    }\n",
       "\n",
       "    .dataframe tbody tr th {\n",
       "        vertical-align: top;\n",
       "    }\n",
       "\n",
       "    .dataframe thead th {\n",
       "        text-align: right;\n",
       "    }\n",
       "</style>\n",
       "<table border=\"1\" class=\"dataframe\">\n",
       "  <thead>\n",
       "    <tr style=\"text-align: right;\">\n",
       "      <th></th>\n",
       "      <th>status_type</th>\n",
       "      <th>num_reactions</th>\n",
       "      <th>num_comments</th>\n",
       "      <th>num_shares</th>\n",
       "      <th>num_likes</th>\n",
       "      <th>num_loves</th>\n",
       "      <th>num_wows</th>\n",
       "      <th>num_hahas</th>\n",
       "      <th>num_sads</th>\n",
       "      <th>num_angrys</th>\n",
       "    </tr>\n",
       "  </thead>\n",
       "  <tbody>\n",
       "    <tr>\n",
       "      <th>0</th>\n",
       "      <td>video</td>\n",
       "      <td>529</td>\n",
       "      <td>512</td>\n",
       "      <td>262</td>\n",
       "      <td>432</td>\n",
       "      <td>92</td>\n",
       "      <td>3</td>\n",
       "      <td>1</td>\n",
       "      <td>1</td>\n",
       "      <td>0</td>\n",
       "    </tr>\n",
       "    <tr>\n",
       "      <th>1</th>\n",
       "      <td>photo</td>\n",
       "      <td>150</td>\n",
       "      <td>0</td>\n",
       "      <td>0</td>\n",
       "      <td>150</td>\n",
       "      <td>0</td>\n",
       "      <td>0</td>\n",
       "      <td>0</td>\n",
       "      <td>0</td>\n",
       "      <td>0</td>\n",
       "    </tr>\n",
       "    <tr>\n",
       "      <th>2</th>\n",
       "      <td>video</td>\n",
       "      <td>227</td>\n",
       "      <td>236</td>\n",
       "      <td>57</td>\n",
       "      <td>204</td>\n",
       "      <td>21</td>\n",
       "      <td>1</td>\n",
       "      <td>1</td>\n",
       "      <td>0</td>\n",
       "      <td>0</td>\n",
       "    </tr>\n",
       "    <tr>\n",
       "      <th>3</th>\n",
       "      <td>photo</td>\n",
       "      <td>111</td>\n",
       "      <td>0</td>\n",
       "      <td>0</td>\n",
       "      <td>111</td>\n",
       "      <td>0</td>\n",
       "      <td>0</td>\n",
       "      <td>0</td>\n",
       "      <td>0</td>\n",
       "      <td>0</td>\n",
       "    </tr>\n",
       "    <tr>\n",
       "      <th>4</th>\n",
       "      <td>photo</td>\n",
       "      <td>213</td>\n",
       "      <td>0</td>\n",
       "      <td>0</td>\n",
       "      <td>204</td>\n",
       "      <td>9</td>\n",
       "      <td>0</td>\n",
       "      <td>0</td>\n",
       "      <td>0</td>\n",
       "      <td>0</td>\n",
       "    </tr>\n",
       "  </tbody>\n",
       "</table>\n",
       "</div>"
      ],
      "text/plain": [
       "  status_type  num_reactions  num_comments  num_shares  num_likes  num_loves  \\\n",
       "0       video            529           512         262        432         92   \n",
       "1       photo            150             0           0        150          0   \n",
       "2       video            227           236          57        204         21   \n",
       "3       photo            111             0           0        111          0   \n",
       "4       photo            213             0           0        204          9   \n",
       "\n",
       "   num_wows  num_hahas  num_sads  num_angrys  \n",
       "0         3          1         1           0  \n",
       "1         0          0         0           0  \n",
       "2         1          1         0           0  \n",
       "3         0          0         0           0  \n",
       "4         0          0         0           0  "
      ]
     },
     "execution_count": 17,
     "metadata": {},
     "output_type": "execute_result"
    }
   ],
   "source": [
    "# Your code to preview the dataset\n",
    "data.head()"
   ]
  },
  {
   "cell_type": "markdown",
   "metadata": {
    "id": "2TtryWwHaRrG"
   },
   "source": [
    "# Declare feature vector and target variable\n",
    "\n",
    "# Remember - We need only X for training the model. The y is normally unknown. However, we will use y for the testing the accuracy of the trained model.\n",
    "\n",
    "\n",
    "\n"
   ]
  },
  {
   "cell_type": "code",
   "execution_count": 18,
   "metadata": {
    "id": "e_1DSZqxVGyJ"
   },
   "outputs": [],
   "source": [
    "X = data\n",
    "\n",
    "y = data['status_type']"
   ]
  },
  {
   "cell_type": "markdown",
   "metadata": {
    "id": "K5CzOqJhdt9j"
   },
   "source": [
    "# Perform label encoding on the categorical data."
   ]
  },
  {
   "cell_type": "code",
   "execution_count": 19,
   "metadata": {
    "id": "j64ORc2vVJzZ"
   },
   "outputs": [],
   "source": [
    "#\n",
    "# Your code to perform the label encoding the X.\n",
    "#\n",
    "from sklearn.preprocessing import LabelEncoder\n",
    "\n",
    "le = LabelEncoder()\n",
    "\n",
    "X['status_type'] = le.fit_transform(X['status_type'])\n",
    "y = le.transform(y)\n"
   ]
  },
  {
   "cell_type": "code",
   "execution_count": 20,
   "metadata": {},
   "outputs": [
    {
     "data": {
      "text/plain": [
       "array([3, 1, 3, ..., 1, 1, 1])"
      ]
     },
     "execution_count": 20,
     "metadata": {},
     "output_type": "execute_result"
    }
   ],
   "source": [
    "y"
   ]
  },
  {
   "cell_type": "markdown",
   "metadata": {
    "id": "Gs2jBR6Fd2NK"
   },
   "source": [
    "# View the brief info of the input X."
   ]
  },
  {
   "cell_type": "code",
   "execution_count": 21,
   "metadata": {
    "id": "TGQD45GUVMN_"
   },
   "outputs": [
    {
     "name": "stdout",
     "output_type": "stream",
     "text": [
      "<class 'pandas.core.frame.DataFrame'>\n",
      "RangeIndex: 7050 entries, 0 to 7049\n",
      "Data columns (total 10 columns):\n",
      " #   Column         Non-Null Count  Dtype\n",
      "---  ------         --------------  -----\n",
      " 0   status_type    7050 non-null   int64\n",
      " 1   num_reactions  7050 non-null   int64\n",
      " 2   num_comments   7050 non-null   int64\n",
      " 3   num_shares     7050 non-null   int64\n",
      " 4   num_likes      7050 non-null   int64\n",
      " 5   num_loves      7050 non-null   int64\n",
      " 6   num_wows       7050 non-null   int64\n",
      " 7   num_hahas      7050 non-null   int64\n",
      " 8   num_sads       7050 non-null   int64\n",
      " 9   num_angrys     7050 non-null   int64\n",
      "dtypes: int64(10)\n",
      "memory usage: 550.9 KB\n"
     ]
    }
   ],
   "source": [
    "# Your code to view the brief info of the X\n",
    "X.info()"
   ]
  },
  {
   "cell_type": "markdown",
   "metadata": {
    "id": "Dgdu5mOzeLZ5"
   },
   "source": [
    "# Preview the dataset"
   ]
  },
  {
   "cell_type": "code",
   "execution_count": 22,
   "metadata": {
    "id": "27MgfBWrVOTn"
   },
   "outputs": [
    {
     "data": {
      "text/html": [
       "<div>\n",
       "<style scoped>\n",
       "    .dataframe tbody tr th:only-of-type {\n",
       "        vertical-align: middle;\n",
       "    }\n",
       "\n",
       "    .dataframe tbody tr th {\n",
       "        vertical-align: top;\n",
       "    }\n",
       "\n",
       "    .dataframe thead th {\n",
       "        text-align: right;\n",
       "    }\n",
       "</style>\n",
       "<table border=\"1\" class=\"dataframe\">\n",
       "  <thead>\n",
       "    <tr style=\"text-align: right;\">\n",
       "      <th></th>\n",
       "      <th>status_type</th>\n",
       "      <th>num_reactions</th>\n",
       "      <th>num_comments</th>\n",
       "      <th>num_shares</th>\n",
       "      <th>num_likes</th>\n",
       "      <th>num_loves</th>\n",
       "      <th>num_wows</th>\n",
       "      <th>num_hahas</th>\n",
       "      <th>num_sads</th>\n",
       "      <th>num_angrys</th>\n",
       "    </tr>\n",
       "  </thead>\n",
       "  <tbody>\n",
       "    <tr>\n",
       "      <th>0</th>\n",
       "      <td>3</td>\n",
       "      <td>529</td>\n",
       "      <td>512</td>\n",
       "      <td>262</td>\n",
       "      <td>432</td>\n",
       "      <td>92</td>\n",
       "      <td>3</td>\n",
       "      <td>1</td>\n",
       "      <td>1</td>\n",
       "      <td>0</td>\n",
       "    </tr>\n",
       "    <tr>\n",
       "      <th>1</th>\n",
       "      <td>1</td>\n",
       "      <td>150</td>\n",
       "      <td>0</td>\n",
       "      <td>0</td>\n",
       "      <td>150</td>\n",
       "      <td>0</td>\n",
       "      <td>0</td>\n",
       "      <td>0</td>\n",
       "      <td>0</td>\n",
       "      <td>0</td>\n",
       "    </tr>\n",
       "    <tr>\n",
       "      <th>2</th>\n",
       "      <td>3</td>\n",
       "      <td>227</td>\n",
       "      <td>236</td>\n",
       "      <td>57</td>\n",
       "      <td>204</td>\n",
       "      <td>21</td>\n",
       "      <td>1</td>\n",
       "      <td>1</td>\n",
       "      <td>0</td>\n",
       "      <td>0</td>\n",
       "    </tr>\n",
       "    <tr>\n",
       "      <th>3</th>\n",
       "      <td>1</td>\n",
       "      <td>111</td>\n",
       "      <td>0</td>\n",
       "      <td>0</td>\n",
       "      <td>111</td>\n",
       "      <td>0</td>\n",
       "      <td>0</td>\n",
       "      <td>0</td>\n",
       "      <td>0</td>\n",
       "      <td>0</td>\n",
       "    </tr>\n",
       "    <tr>\n",
       "      <th>4</th>\n",
       "      <td>1</td>\n",
       "      <td>213</td>\n",
       "      <td>0</td>\n",
       "      <td>0</td>\n",
       "      <td>204</td>\n",
       "      <td>9</td>\n",
       "      <td>0</td>\n",
       "      <td>0</td>\n",
       "      <td>0</td>\n",
       "      <td>0</td>\n",
       "    </tr>\n",
       "  </tbody>\n",
       "</table>\n",
       "</div>"
      ],
      "text/plain": [
       "   status_type  num_reactions  num_comments  num_shares  num_likes  num_loves  \\\n",
       "0            3            529           512         262        432         92   \n",
       "1            1            150             0           0        150          0   \n",
       "2            3            227           236          57        204         21   \n",
       "3            1            111             0           0        111          0   \n",
       "4            1            213             0           0        204          9   \n",
       "\n",
       "   num_wows  num_hahas  num_sads  num_angrys  \n",
       "0         3          1         1           0  \n",
       "1         0          0         0           0  \n",
       "2         1          1         0           0  \n",
       "3         0          0         0           0  \n",
       "4         0          0         0           0  "
      ]
     },
     "execution_count": 22,
     "metadata": {},
     "output_type": "execute_result"
    }
   ],
   "source": [
    "# Your code to preview the dataset\n",
    "X.head()"
   ]
  },
  {
   "cell_type": "markdown",
   "metadata": {
    "id": "-UUCPR-DecZd"
   },
   "source": [
    "# Perfrom the feature scaling on X. Use MinMaxScaler"
   ]
  },
  {
   "cell_type": "code",
   "execution_count": 23,
   "metadata": {
    "id": "gNJ1T2R3VS70"
   },
   "outputs": [],
   "source": [
    "#\n",
    "# Your code to perform the feature scaling on X\n",
    "#\n",
    "from sklearn.preprocessing import MinMaxScaler\n",
    "\n",
    "scaler = MinMaxScaler()\n",
    "\n",
    "X_scaled = scaler.fit_transform(X)\n",
    "X = pd.DataFrame(X_scaled, columns=X.columns)"
   ]
  },
  {
   "cell_type": "markdown",
   "metadata": {
    "id": "QwjlDmuofkIu"
   },
   "source": [
    "# Develop KMean clustering using 2 clusters.\n",
    "\n",
    "## https://scikit-learn.org/stable/modules/generated/sklearn.cluster.KMeans.html"
   ]
  },
  {
   "cell_type": "code",
   "execution_count": 24,
   "metadata": {
    "id": "PjumnTr1VaxJ"
   },
   "outputs": [
    {
     "name": "stderr",
     "output_type": "stream",
     "text": [
      "/Users/jamoliddinsirojiddinov/anaconda3/lib/python3.11/site-packages/sklearn/cluster/_kmeans.py:1412: FutureWarning: The default value of `n_init` will change from 10 to 'auto' in 1.4. Set the value of `n_init` explicitly to suppress the warning\n",
      "  super()._check_params_vs_input(X, default_n_init=10)\n"
     ]
    },
    {
     "data": {
      "text/html": [
       "<style>#sk-container-id-1 {color: black;}#sk-container-id-1 pre{padding: 0;}#sk-container-id-1 div.sk-toggleable {background-color: white;}#sk-container-id-1 label.sk-toggleable__label {cursor: pointer;display: block;width: 100%;margin-bottom: 0;padding: 0.3em;box-sizing: border-box;text-align: center;}#sk-container-id-1 label.sk-toggleable__label-arrow:before {content: \"▸\";float: left;margin-right: 0.25em;color: #696969;}#sk-container-id-1 label.sk-toggleable__label-arrow:hover:before {color: black;}#sk-container-id-1 div.sk-estimator:hover label.sk-toggleable__label-arrow:before {color: black;}#sk-container-id-1 div.sk-toggleable__content {max-height: 0;max-width: 0;overflow: hidden;text-align: left;background-color: #f0f8ff;}#sk-container-id-1 div.sk-toggleable__content pre {margin: 0.2em;color: black;border-radius: 0.25em;background-color: #f0f8ff;}#sk-container-id-1 input.sk-toggleable__control:checked~div.sk-toggleable__content {max-height: 200px;max-width: 100%;overflow: auto;}#sk-container-id-1 input.sk-toggleable__control:checked~label.sk-toggleable__label-arrow:before {content: \"▾\";}#sk-container-id-1 div.sk-estimator input.sk-toggleable__control:checked~label.sk-toggleable__label {background-color: #d4ebff;}#sk-container-id-1 div.sk-label input.sk-toggleable__control:checked~label.sk-toggleable__label {background-color: #d4ebff;}#sk-container-id-1 input.sk-hidden--visually {border: 0;clip: rect(1px 1px 1px 1px);clip: rect(1px, 1px, 1px, 1px);height: 1px;margin: -1px;overflow: hidden;padding: 0;position: absolute;width: 1px;}#sk-container-id-1 div.sk-estimator {font-family: monospace;background-color: #f0f8ff;border: 1px dotted black;border-radius: 0.25em;box-sizing: border-box;margin-bottom: 0.5em;}#sk-container-id-1 div.sk-estimator:hover {background-color: #d4ebff;}#sk-container-id-1 div.sk-parallel-item::after {content: \"\";width: 100%;border-bottom: 1px solid gray;flex-grow: 1;}#sk-container-id-1 div.sk-label:hover label.sk-toggleable__label {background-color: #d4ebff;}#sk-container-id-1 div.sk-serial::before {content: \"\";position: absolute;border-left: 1px solid gray;box-sizing: border-box;top: 0;bottom: 0;left: 50%;z-index: 0;}#sk-container-id-1 div.sk-serial {display: flex;flex-direction: column;align-items: center;background-color: white;padding-right: 0.2em;padding-left: 0.2em;position: relative;}#sk-container-id-1 div.sk-item {position: relative;z-index: 1;}#sk-container-id-1 div.sk-parallel {display: flex;align-items: stretch;justify-content: center;background-color: white;position: relative;}#sk-container-id-1 div.sk-item::before, #sk-container-id-1 div.sk-parallel-item::before {content: \"\";position: absolute;border-left: 1px solid gray;box-sizing: border-box;top: 0;bottom: 0;left: 50%;z-index: -1;}#sk-container-id-1 div.sk-parallel-item {display: flex;flex-direction: column;z-index: 1;position: relative;background-color: white;}#sk-container-id-1 div.sk-parallel-item:first-child::after {align-self: flex-end;width: 50%;}#sk-container-id-1 div.sk-parallel-item:last-child::after {align-self: flex-start;width: 50%;}#sk-container-id-1 div.sk-parallel-item:only-child::after {width: 0;}#sk-container-id-1 div.sk-dashed-wrapped {border: 1px dashed gray;margin: 0 0.4em 0.5em 0.4em;box-sizing: border-box;padding-bottom: 0.4em;background-color: white;}#sk-container-id-1 div.sk-label label {font-family: monospace;font-weight: bold;display: inline-block;line-height: 1.2em;}#sk-container-id-1 div.sk-label-container {text-align: center;}#sk-container-id-1 div.sk-container {/* jupyter's `normalize.less` sets `[hidden] { display: none; }` but bootstrap.min.css set `[hidden] { display: none !important; }` so we also need the `!important` here to be able to override the default hidden behavior on the sphinx rendered scikit-learn.org. See: https://github.com/scikit-learn/scikit-learn/issues/21755 */display: inline-block !important;position: relative;}#sk-container-id-1 div.sk-text-repr-fallback {display: none;}</style><div id=\"sk-container-id-1\" class=\"sk-top-container\"><div class=\"sk-text-repr-fallback\"><pre>KMeans(n_clusters=2, random_state=0)</pre><b>In a Jupyter environment, please rerun this cell to show the HTML representation or trust the notebook. <br />On GitHub, the HTML representation is unable to render, please try loading this page with nbviewer.org.</b></div><div class=\"sk-container\" hidden><div class=\"sk-item\"><div class=\"sk-estimator sk-toggleable\"><input class=\"sk-toggleable__control sk-hidden--visually\" id=\"sk-estimator-id-1\" type=\"checkbox\" checked><label for=\"sk-estimator-id-1\" class=\"sk-toggleable__label sk-toggleable__label-arrow\">KMeans</label><div class=\"sk-toggleable__content\"><pre>KMeans(n_clusters=2, random_state=0)</pre></div></div></div></div></div>"
      ],
      "text/plain": [
       "KMeans(n_clusters=2, random_state=0)"
      ]
     },
     "execution_count": 24,
     "metadata": {},
     "output_type": "execute_result"
    }
   ],
   "source": [
    "#\n",
    "# Your code to implement KMeans algorithm\n",
    "#\n",
    "from sklearn.cluster import KMeans\n",
    "\n",
    "kmeans = KMeans(n_clusters=2, random_state=0)\n",
    "\n",
    "kmeans.fit(X)"
   ]
  },
  {
   "cell_type": "markdown",
   "metadata": {
    "id": "Dy7yKsVTgZFV"
   },
   "source": [
    "# Print the cluster centers."
   ]
  },
  {
   "cell_type": "code",
   "execution_count": 25,
   "metadata": {
    "id": "4c6ayArSVfTV"
   },
   "outputs": [
    {
     "name": "stdout",
     "output_type": "stream",
     "text": [
      "Cluster Centers: \n",
      " [[9.54921576e-01 6.46330441e-02 2.67028654e-02 2.93171709e-02\n",
      "  5.71231462e-02 4.71007076e-02 8.18581889e-03 9.65207685e-03\n",
      "  8.04219428e-03 7.19501847e-03]\n",
      " [3.28506857e-01 3.90710874e-02 7.54854864e-04 7.53667113e-04\n",
      "  3.85438884e-02 2.17448568e-03 2.43721364e-03 1.20039760e-03\n",
      "  2.75348016e-03 1.45313276e-03]]\n"
     ]
    }
   ],
   "source": [
    "# Your code to print the cluster centers\n",
    "print(\"Cluster Centers: \\n\", kmeans.cluster_centers_)\n"
   ]
  },
  {
   "cell_type": "markdown",
   "metadata": {
    "id": "efWQcFJugfY6"
   },
   "source": [
    "# Print the intertia."
   ]
  },
  {
   "cell_type": "code",
   "execution_count": 26,
   "metadata": {
    "id": "FiB1g9IiVjWg"
   },
   "outputs": [
    {
     "name": "stdout",
     "output_type": "stream",
     "text": [
      "Inertia:  237.7572640441955\n"
     ]
    }
   ],
   "source": [
    "# Your code to print the inertia\n",
    "print(\"Inertia: \", kmeans.inertia_)\n"
   ]
  },
  {
   "cell_type": "markdown",
   "metadata": {
    "id": "Jf77qWrggs46"
   },
   "source": [
    "# Check the number of samples correctly classified."
   ]
  },
  {
   "cell_type": "code",
   "execution_count": 27,
   "metadata": {
    "colab": {
     "base_uri": "https://localhost:8080/"
    },
    "id": "UDVQoVawVnle",
    "outputId": "b139cce0-afcd-49ea-be1e-96770dc70213"
   },
   "outputs": [
    {
     "name": "stdout",
     "output_type": "stream",
     "text": [
      "Result: 4288 out of 7050 samples were correctly labeled.\n"
     ]
    }
   ],
   "source": [
    "labels = kmeans.labels_\n",
    "\n",
    "# check how many of the samples were correctly labeled\n",
    "correct_labels = sum(y == labels)\n",
    "\n",
    "print(\"Result: %d out of %d samples were correctly labeled.\" % (correct_labels, y.size))"
   ]
  },
  {
   "cell_type": "markdown",
   "metadata": {
    "id": "VO5_amtZg_HW"
   },
   "source": [
    "# Check the accuracy of the KMean."
   ]
  },
  {
   "cell_type": "code",
   "execution_count": 28,
   "metadata": {
    "id": "6KSmxUFFVqRw"
   },
   "outputs": [
    {
     "name": "stdout",
     "output_type": "stream",
     "text": [
      "Accuracy score: 0.61\n"
     ]
    }
   ],
   "source": [
    "print('Accuracy score: {0:0.2f}'. format(correct_labels/float(y.size)))\n"
   ]
  },
  {
   "cell_type": "markdown",
   "metadata": {
    "id": "OqkCR9bChFkY"
   },
   "source": [
    "# Run KMeans for different cluster center numers 1-10 and plot inertia."
   ]
  },
  {
   "cell_type": "code",
   "execution_count": 33,
   "metadata": {
    "id": "PmDZJARyVusP"
   },
   "outputs": [
    {
     "name": "stderr",
     "output_type": "stream",
     "text": [
      "/Users/jamoliddinsirojiddinov/anaconda3/lib/python3.11/site-packages/sklearn/cluster/_kmeans.py:1412: FutureWarning: The default value of `n_init` will change from 10 to 'auto' in 1.4. Set the value of `n_init` explicitly to suppress the warning\n",
      "  super()._check_params_vs_input(X, default_n_init=10)\n",
      "/Users/jamoliddinsirojiddinov/anaconda3/lib/python3.11/site-packages/sklearn/cluster/_kmeans.py:1412: FutureWarning: The default value of `n_init` will change from 10 to 'auto' in 1.4. Set the value of `n_init` explicitly to suppress the warning\n",
      "  super()._check_params_vs_input(X, default_n_init=10)\n",
      "/Users/jamoliddinsirojiddinov/anaconda3/lib/python3.11/site-packages/sklearn/cluster/_kmeans.py:1412: FutureWarning: The default value of `n_init` will change from 10 to 'auto' in 1.4. Set the value of `n_init` explicitly to suppress the warning\n",
      "  super()._check_params_vs_input(X, default_n_init=10)\n",
      "/Users/jamoliddinsirojiddinov/anaconda3/lib/python3.11/site-packages/sklearn/cluster/_kmeans.py:1412: FutureWarning: The default value of `n_init` will change from 10 to 'auto' in 1.4. Set the value of `n_init` explicitly to suppress the warning\n",
      "  super()._check_params_vs_input(X, default_n_init=10)\n",
      "/Users/jamoliddinsirojiddinov/anaconda3/lib/python3.11/site-packages/sklearn/cluster/_kmeans.py:1412: FutureWarning: The default value of `n_init` will change from 10 to 'auto' in 1.4. Set the value of `n_init` explicitly to suppress the warning\n",
      "  super()._check_params_vs_input(X, default_n_init=10)\n",
      "/Users/jamoliddinsirojiddinov/anaconda3/lib/python3.11/site-packages/sklearn/cluster/_kmeans.py:1412: FutureWarning: The default value of `n_init` will change from 10 to 'auto' in 1.4. Set the value of `n_init` explicitly to suppress the warning\n",
      "  super()._check_params_vs_input(X, default_n_init=10)\n",
      "/Users/jamoliddinsirojiddinov/anaconda3/lib/python3.11/site-packages/sklearn/cluster/_kmeans.py:1412: FutureWarning: The default value of `n_init` will change from 10 to 'auto' in 1.4. Set the value of `n_init` explicitly to suppress the warning\n",
      "  super()._check_params_vs_input(X, default_n_init=10)\n",
      "/Users/jamoliddinsirojiddinov/anaconda3/lib/python3.11/site-packages/sklearn/cluster/_kmeans.py:1412: FutureWarning: The default value of `n_init` will change from 10 to 'auto' in 1.4. Set the value of `n_init` explicitly to suppress the warning\n",
      "  super()._check_params_vs_input(X, default_n_init=10)\n",
      "/Users/jamoliddinsirojiddinov/anaconda3/lib/python3.11/site-packages/sklearn/cluster/_kmeans.py:1412: FutureWarning: The default value of `n_init` will change from 10 to 'auto' in 1.4. Set the value of `n_init` explicitly to suppress the warning\n",
      "  super()._check_params_vs_input(X, default_n_init=10)\n",
      "/Users/jamoliddinsirojiddinov/anaconda3/lib/python3.11/site-packages/sklearn/cluster/_kmeans.py:1412: FutureWarning: The default value of `n_init` will change from 10 to 'auto' in 1.4. Set the value of `n_init` explicitly to suppress the warning\n",
      "  super()._check_params_vs_input(X, default_n_init=10)\n"
     ]
    },
    {
     "data": {
      "image/png": "[encoded data removed]",
      "text/plain": [
       "<Figure size 1000x600 with 1 Axes>"
      ]
     },
     "metadata": {},
     "output_type": "display_data"
    }
   ],
   "source": [
    "#\n",
    "# Your code to run K-Mean for k = 1-10 and plot number of clusters vs inertia results.\n",
    "\n",
    "inertia = []\n",
    "\n",
    "for k in range(1, 11):\n",
    "    kmeans = KMeans(n_clusters=k, random_state=0).fit(X)\n",
    "    inertia.append(kmeans.inertia_)\n",
    "\n",
    "plt.figure(figsize=(10, 6))\n",
    "plt.plot(range(1, 11), inertia, marker='o')\n",
    "plt.title('Number of Clusters vs Inertia')\n",
    "plt.xlabel('Number of Clusters')\n",
    "plt.ylabel('Inertia')\n",
    "plt.xticks(range(1, 11))\n",
    "plt.grid(True)\n",
    "plt.show()"
   ]
  },
  {
   "cell_type": "markdown",
   "metadata": {
    "id": "1-bjHQzfhX5f"
   },
   "source": [
    "# Develop the KMeans for K= 3 and check accuracy"
   ]
  },
  {
   "cell_type": "code",
   "execution_count": 34,
   "metadata": {
    "id": "tX1l-Ol_WFAS"
   },
   "outputs": [
    {
     "name": "stdout",
     "output_type": "stream",
     "text": [
      "Accuracy for k=3: 0.5907801418439717\n"
     ]
    },
    {
     "name": "stderr",
     "output_type": "stream",
     "text": [
      "/Users/jamoliddinsirojiddinov/anaconda3/lib/python3.11/site-packages/sklearn/cluster/_kmeans.py:1412: FutureWarning: The default value of `n_init` will change from 10 to 'auto' in 1.4. Set the value of `n_init` explicitly to suppress the warning\n",
      "  super()._check_params_vs_input(X, default_n_init=10)\n"
     ]
    }
   ],
   "source": [
    "#\n",
    "# Implement the KMeans for K=3 and check accuracy\n",
    "#\n",
    "from sklearn.metrics import accuracy_score\n",
    "\n",
    "kmeans_3 = KMeans(n_clusters=3, random_state=0)\n",
    "kmeans_3.fit(X)\n",
    "labels_3 = kmeans_3.labels_\n",
    "\n",
    "accuracy_3 = accuracy_score(y, labels_3)\n",
    "print(f'Accuracy for k=3: {accuracy_3}')"
   ]
  },
  {
   "cell_type": "markdown",
   "metadata": {
    "id": "M7AsA-YRhdD1"
   },
   "source": [
    "# Develop the KMean for k=4 and check accuracy."
   ]
  },
  {
   "cell_type": "code",
   "execution_count": 35,
   "metadata": {
    "id": "-oWF_VwZWHjU"
   },
   "outputs": [
    {
     "name": "stdout",
     "output_type": "stream",
     "text": [
      "Accuracy for k=4: 0.6165957446808511\n"
     ]
    },
    {
     "name": "stderr",
     "output_type": "stream",
     "text": [
      "/Users/jamoliddinsirojiddinov/anaconda3/lib/python3.11/site-packages/sklearn/cluster/_kmeans.py:1412: FutureWarning: The default value of `n_init` will change from 10 to 'auto' in 1.4. Set the value of `n_init` explicitly to suppress the warning\n",
      "  super()._check_params_vs_input(X, default_n_init=10)\n"
     ]
    }
   ],
   "source": [
    "#\n",
    "# Implement the Kmeans for K=4 and check accuracy\n",
    "#\n",
    "\n",
    "kmeans_4 = KMeans(n_clusters=4, random_state=0)\n",
    "kmeans_4.fit(X)\n",
    "labels_4 = kmeans_4.labels_\n",
    "\n",
    "accuracy_4 = accuracy_score(y, labels_4)\n",
    "print(f'Accuracy for k=4: {accuracy_4}')"
   ]
  },
  {
   "cell_type": "markdown",
   "metadata": {
    "id": "JwX5f0FImEg3"
   },
   "source": [
    "# **Lab Logbook requirement:** Document in your lab logbook, the optimal number of clusters for this problem."
   ]
  }
 ],
 "metadata": {
  "colab": {
   "provenance": []
  },
  "kernelspec": {
   "display_name": "Python 3 (ipykernel)",
   "language": "python",
   "name": "python3"
  },
  "language_info": {
   "codemirror_mode": {
    "name": "ipython",
    "version": 3
   },
   "file_extension": ".py",
   "mimetype": "text/x-python",
   "name": "python",
   "nbconvert_exporter": "python",
   "pygments_lexer": "ipython3",
   "version": "3.11.4"
  }
 },
 "nbformat": 4,
 "nbformat_minor": 1
}
